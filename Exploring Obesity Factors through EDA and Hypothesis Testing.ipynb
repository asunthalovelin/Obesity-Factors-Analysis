{
 "cells": [
  {
   "cell_type": "markdown",
   "id": "fc8198fa",
   "metadata": {},
   "source": [
    "## Problem Statement\n",
    "\n",
    "Understanding the prevalence of overweight and obesity, as defined by the World Health Organization, is crucial for public health. This study aims to identify key factors contributing to high BMI values and obesity. By analyzing gender, age, height, weight, hereditary factors, and dietary habits like High Calorie Food Intake Frequency (HCFIF), we seek to uncover patterns and correlations that can inform interventions and preventive strategies. The ultimate goal is to mitigate the burden of obesity-related diseases by addressing its root causes through targeted interventions and lifestyle modifications."
   ]
  },
  {
   "cell_type": "markdown",
   "id": "1257befe",
   "metadata": {},
   "source": [
    "## Data Definition\n",
    "\n",
    "gender - gender of the individual. Female-f/ Male-m\n",
    "\n",
    "age - age of the individual. Numeric\n",
    "\n",
    "height -  height of the individual. Numeric (cm)\n",
    "\n",
    "weight - weight of the individual. Numeric (kg)\n",
    "\n",
    "hereditary - Has a family member suffered or suffers from overweight?\n",
    "\n",
    "HCFIF - do take High Calorie Food Intake Frequently? \n",
    "\n",
    "BMI - Body mass Index of Indivivual?\n",
    "\n",
    "Obesity - Is Person Underweight / Not Obese / Obese."
   ]
  },
  {
   "cell_type": "markdown",
   "id": "3bc3806e",
   "metadata": {},
   "source": [
    "## Import Libraries"
   ]
  },
  {
   "cell_type": "code",
   "execution_count": 45,
   "id": "63044c97",
   "metadata": {},
   "outputs": [],
   "source": [
    "# import 'pandas' \n",
    "import pandas as pd \n",
    "\n",
    "# import 'numpy' \n",
    "import numpy as np\n",
    "\n",
    "# import subpackage of matplotlib\n",
    "import matplotlib.pyplot as plt\n",
    "\n",
    "# import 'seaborn'\n",
    "import seaborn as sns\n",
    "\n",
    "# to suppress warnings \n",
    "\n",
    "\n",
    "# import 'random' to generate random sample\n",
    "import random\n",
    "\n",
    "# import statistics to perform statistical computation  \n",
    "import statistics\n",
    "\n",
    "# import 'stats' package from scipy library\n",
    "from scipy import stats\n",
    "\n",
    "# import a library to perform Z-test\n",
    "from statsmodels.stats import weightstats as stests\n",
    "\n",
    "# to test the normality \n",
    "from scipy.stats import shapiro\n",
    "\n",
    "# import the function to calculate the power of test\n",
    "from statsmodels.stats import power\n",
    "\n",
    "from warnings import filterwarnings\n",
    "filterwarnings('ignore')\n",
    "\n",
    "import statsmodels.api as sm\n",
    "\n",
    "# set the plot size using 'rcParams'\n",
    "# once the plot size is set using 'rcParams', it sets the size of all the forthcoming plots in the file\n",
    "# pass width and height in inches to 'figure.figsize' \n",
    "plt.rcParams['figure.figsize'] = [15,8]"
   ]
  },
  {
   "cell_type": "markdown",
   "id": "2e87ffb9",
   "metadata": {},
   "source": [
    "## Read the Data"
   ]
  },
  {
   "cell_type": "code",
   "execution_count": 48,
   "id": "68d0ef8b",
   "metadata": {},
   "outputs": [
    {
     "data": {
      "text/html": [
       "<div>\n",
       "<style scoped>\n",
       "    .dataframe tbody tr th:only-of-type {\n",
       "        vertical-align: middle;\n",
       "    }\n",
       "\n",
       "    .dataframe tbody tr th {\n",
       "        vertical-align: top;\n",
       "    }\n",
       "\n",
       "    .dataframe thead th {\n",
       "        text-align: right;\n",
       "    }\n",
       "</style>\n",
       "<table border=\"1\" class=\"dataframe\">\n",
       "  <thead>\n",
       "    <tr style=\"text-align: right;\">\n",
       "      <th></th>\n",
       "      <th>gender</th>\n",
       "      <th>age</th>\n",
       "      <th>height</th>\n",
       "      <th>weight</th>\n",
       "      <th>Hereditary</th>\n",
       "      <th>HCFIF</th>\n",
       "      <th>BMI</th>\n",
       "      <th>Obesity</th>\n",
       "    </tr>\n",
       "  </thead>\n",
       "  <tbody>\n",
       "    <tr>\n",
       "      <th>0</th>\n",
       "      <td>m</td>\n",
       "      <td>33</td>\n",
       "      <td>167</td>\n",
       "      <td>45</td>\n",
       "      <td>y</td>\n",
       "      <td>n</td>\n",
       "      <td>16.135394</td>\n",
       "      <td>Under Weight</td>\n",
       "    </tr>\n",
       "    <tr>\n",
       "      <th>1</th>\n",
       "      <td>m</td>\n",
       "      <td>21</td>\n",
       "      <td>177</td>\n",
       "      <td>88</td>\n",
       "      <td>y</td>\n",
       "      <td>y</td>\n",
       "      <td>28.088991</td>\n",
       "      <td>obese</td>\n",
       "    </tr>\n",
       "    <tr>\n",
       "      <th>2</th>\n",
       "      <td>m</td>\n",
       "      <td>25</td>\n",
       "      <td>178</td>\n",
       "      <td>92</td>\n",
       "      <td>y</td>\n",
       "      <td>y</td>\n",
       "      <td>29.036738</td>\n",
       "      <td>obese</td>\n",
       "    </tr>\n",
       "    <tr>\n",
       "      <th>3</th>\n",
       "      <td>m</td>\n",
       "      <td>25</td>\n",
       "      <td>167</td>\n",
       "      <td>66</td>\n",
       "      <td>n</td>\n",
       "      <td>n</td>\n",
       "      <td>23.665244</td>\n",
       "      <td>Not Obese</td>\n",
       "    </tr>\n",
       "    <tr>\n",
       "      <th>4</th>\n",
       "      <td>f</td>\n",
       "      <td>22</td>\n",
       "      <td>144</td>\n",
       "      <td>66</td>\n",
       "      <td>n</td>\n",
       "      <td>n</td>\n",
       "      <td>31.828704</td>\n",
       "      <td>obese</td>\n",
       "    </tr>\n",
       "  </tbody>\n",
       "</table>\n",
       "</div>"
      ],
      "text/plain": [
       "  gender  age  height  weight Hereditary HCFIF        BMI       Obesity\n",
       "0      m   33     167      45          y     n  16.135394  Under Weight\n",
       "1      m   21     177      88          y     y  28.088991         obese\n",
       "2      m   25     178      92          y     y  29.036738         obese\n",
       "3      m   25     167      66          n     n  23.665244     Not Obese\n",
       "4      f   22     144      66          n     n  31.828704         obese"
      ]
     },
     "execution_count": 48,
     "metadata": {},
     "output_type": "execute_result"
    }
   ],
   "source": [
    "df = pd.read_excel('data.xlsx')\n",
    "df.head()"
   ]
  },
  {
   "cell_type": "code",
   "execution_count": 50,
   "id": "695d891a-6934-4fb7-93e0-c5946ea12e0b",
   "metadata": {},
   "outputs": [
    {
     "name": "stdout",
     "output_type": "stream",
     "text": [
      "<class 'pandas.core.frame.DataFrame'>\n",
      "RangeIndex: 101 entries, 0 to 100\n",
      "Data columns (total 8 columns):\n",
      " #   Column      Non-Null Count  Dtype  \n",
      "---  ------      --------------  -----  \n",
      " 0   gender      101 non-null    object \n",
      " 1   age         101 non-null    int64  \n",
      " 2   height      101 non-null    int64  \n",
      " 3   weight      101 non-null    int64  \n",
      " 4   Hereditary  101 non-null    object \n",
      " 5   HCFIF       101 non-null    object \n",
      " 6   BMI         101 non-null    float64\n",
      " 7   Obesity     101 non-null    object \n",
      "dtypes: float64(1), int64(3), object(4)\n",
      "memory usage: 6.4+ KB\n"
     ]
    }
   ],
   "source": [
    "df.info()"
   ]
  },
  {
   "cell_type": "code",
   "execution_count": 52,
   "id": "8389dcf1-f399-41b2-a0d7-ce52822a8a2e",
   "metadata": {},
   "outputs": [
    {
     "data": {
      "text/plain": [
       "(101, 8)"
      ]
     },
     "execution_count": 52,
     "metadata": {},
     "output_type": "execute_result"
    }
   ],
   "source": [
    "df.shape"
   ]
  },
  {
   "cell_type": "code",
   "execution_count": 54,
   "id": "020f2840-ef0b-47a5-acb4-fa0fa6930e74",
   "metadata": {},
   "outputs": [
    {
     "data": {
      "text/plain": [
       "0"
      ]
     },
     "execution_count": 54,
     "metadata": {},
     "output_type": "execute_result"
    }
   ],
   "source": [
    "df.duplicated().sum()"
   ]
  },
  {
   "cell_type": "code",
   "execution_count": 56,
   "id": "aafea692-b75e-4fa1-a5fb-24f1d72511a1",
   "metadata": {},
   "outputs": [
    {
     "data": {
      "text/plain": [
       "gender        0\n",
       "age           0\n",
       "height        0\n",
       "weight        0\n",
       "Hereditary    0\n",
       "HCFIF         0\n",
       "BMI           0\n",
       "Obesity       0\n",
       "dtype: int64"
      ]
     },
     "execution_count": 56,
     "metadata": {},
     "output_type": "execute_result"
    }
   ],
   "source": [
    "df.isnull().sum()"
   ]
  },
  {
   "cell_type": "markdown",
   "id": "245c0588",
   "metadata": {},
   "source": [
    "## Bivariate Analysis "
   ]
  },
  {
   "cell_type": "code",
   "execution_count": 59,
   "id": "547af4d1",
   "metadata": {},
   "outputs": [],
   "source": [
    "### Identify whether Weight has any impact on BMI of a person Using relevant plot ?\n",
    "### Identify whether hereditary has any impact on BMI of a person Using relevant plot ?\n",
    "### Identify whether HCFIF has any impact on BMI of a person Using relevant plot ?\n",
    "### Identify whether BMI has any impact on Obesity of a person Using relevant plot ?\n",
    "### Identify whether HCFIF & Obesity has any relationship among them using relevant plots ?"
   ]
  },
  {
   "cell_type": "markdown",
   "id": "2c9effdf",
   "metadata": {},
   "source": [
    "#### Identify whether Weight has any impact on BMI of a person Using relevant Plots ?"
   ]
  },
  {
   "cell_type": "code",
   "execution_count": 62,
   "id": "bafcdf5d",
   "metadata": {},
   "outputs": [
    {
     "data": {
      "text/plain": [
       "0.6447565303873544"
      ]
     },
     "execution_count": 62,
     "metadata": {},
     "output_type": "execute_result"
    }
   ],
   "source": [
    "df['weight'].corr(df['BMI'])"
   ]
  },
  {
   "cell_type": "code",
   "execution_count": 64,
   "id": "2ece5a5e-b9cc-487e-b624-292376dede6f",
   "metadata": {},
   "outputs": [
    {
     "data": {
      "image/png": "[encoded data removed]",
      "text/plain": [
       "<Figure size 1500x800 with 1 Axes>"
      ]
     },
     "metadata": {},
     "output_type": "display_data"
    }
   ],
   "source": [
    "sns.scatterplot(x = df['weight'], y = df['BMI'])\n",
    "plt.show()"
   ]
  },
  {
   "cell_type": "code",
   "execution_count": 66,
   "id": "63818bc7-da4a-4b45-be1b-4fc5307e5d33",
   "metadata": {},
   "outputs": [],
   "source": [
    "#weight has a positive relationship with the BMI of a person; it has an impact."
   ]
  },
  {
   "cell_type": "markdown",
   "id": "1b159a45",
   "metadata": {},
   "source": [
    "#### Identify whether hereditary has any impact on BMI of a person Using relevant Plots ?"
   ]
  },
  {
   "cell_type": "code",
   "execution_count": 69,
   "id": "8d0e004b-5468-4f92-8518-03254d351030",
   "metadata": {},
   "outputs": [],
   "source": [
    "#h0 : mu1 = mu2\n",
    "#h0 : mu1 != mu2"
   ]
  },
  {
   "cell_type": "code",
   "execution_count": 71,
   "id": "5773b47a",
   "metadata": {},
   "outputs": [
    {
     "data": {
      "image/png": "[encoded data removed]",
      "text/plain": [
       "<Figure size 1500x800 with 1 Axes>"
      ]
     },
     "metadata": {},
     "output_type": "display_data"
    }
   ],
   "source": [
    "sns.boxplot(y = df['Hereditary'], x = df['BMI'], color = 'purple')\n",
    "plt.show()"
   ]
  },
  {
   "cell_type": "code",
   "execution_count": 73,
   "id": "218b1b4a-315c-496c-aa8d-096cefe393d8",
   "metadata": {},
   "outputs": [
    {
     "data": {
      "text/plain": [
       "0.4014275054878931"
      ]
     },
     "execution_count": 73,
     "metadata": {},
     "output_type": "execute_result"
    }
   ],
   "source": [
    "df['BMI'].skew()"
   ]
  },
  {
   "cell_type": "code",
   "execution_count": 75,
   "id": "c7560615-b8cb-4bf3-9f85-13f3f7847799",
   "metadata": {},
   "outputs": [],
   "source": [
    "#therefore we can conclude that hereditary does not have any impact on BMI of a person"
   ]
  },
  {
   "cell_type": "markdown",
   "id": "7c393806",
   "metadata": {},
   "source": [
    "#### Identify whether HCFIF has any impact on BMI of a person Using relevant Plots ?"
   ]
  },
  {
   "cell_type": "code",
   "execution_count": 78,
   "id": "4c18f5d6-448f-4db2-9e64-80de550b3350",
   "metadata": {},
   "outputs": [],
   "source": [
    "#h0 : mu1 = mu2\n",
    "#h0 : mu1 != mu2"
   ]
  },
  {
   "cell_type": "code",
   "execution_count": 80,
   "id": "725f7a40",
   "metadata": {},
   "outputs": [
    {
     "data": {
      "image/png": "[encoded data removed]",
      "text/plain": [
       "<Figure size 1500x800 with 1 Axes>"
      ]
     },
     "metadata": {},
     "output_type": "display_data"
    }
   ],
   "source": [
    "sns.barplot(x = df['HCFIF'], y = df['BMI'], color = 'green')\n",
    "plt.show()"
   ]
  },
  {
   "cell_type": "code",
   "execution_count": 82,
   "id": "7c33f7ef-69f9-40ae-9bac-7a0171a82feb",
   "metadata": {},
   "outputs": [],
   "source": [
    "#Therefore HCFIF does not have any impact on BMI of a person"
   ]
  },
  {
   "cell_type": "markdown",
   "id": "8b6c6db4",
   "metadata": {},
   "source": [
    "#### Identify whether BMI has any impact on Obesity of a person Using relevant Plots ?"
   ]
  },
  {
   "cell_type": "code",
   "execution_count": 85,
   "id": "22fd7a02-34d5-442e-8ab9-37237517fc8c",
   "metadata": {},
   "outputs": [],
   "source": [
    "#h0 : mu1 = mu2 = mu3\n",
    "#h0 : mu1 != mu2 != mu3"
   ]
  },
  {
   "cell_type": "code",
   "execution_count": 87,
   "id": "15c58613",
   "metadata": {
    "scrolled": true
   },
   "outputs": [
    {
     "data": {
      "image/png": "[encoded data removed]",
      "text/plain": [
       "<Figure size 1500x800 with 1 Axes>"
      ]
     },
     "metadata": {},
     "output_type": "display_data"
    }
   ],
   "source": [
    "sns.barplot(x = df['Obesity'], y = df['BMI'])\n",
    "plt.show()"
   ]
  },
  {
   "cell_type": "code",
   "execution_count": 89,
   "id": "d9225d69-454e-4179-be25-f172e82b2e64",
   "metadata": {},
   "outputs": [],
   "source": [
    "#therefore we can conclude that the BMI of a person does not impact if they're obese or not"
   ]
  },
  {
   "cell_type": "markdown",
   "id": "9e424d58",
   "metadata": {},
   "source": [
    "#### Identify whether HCFIF & Obesity has any relationship among them using relevant plots ?"
   ]
  },
  {
   "cell_type": "code",
   "execution_count": 92,
   "id": "4a983470",
   "metadata": {},
   "outputs": [
    {
     "data": {
      "image/png": "[encoded data removed]",
      "text/plain": [
       "<Figure size 1500x800 with 1 Axes>"
      ]
     },
     "metadata": {},
     "output_type": "display_data"
    }
   ],
   "source": [
    "sns.countplot(x = df['HCFIF'], hue = df['Obesity'])\n",
    "plt.show()"
   ]
  },
  {
   "cell_type": "code",
   "execution_count": 94,
   "id": "2f2ec69d-6bf7-4673-994e-04a8bdb38c88",
   "metadata": {},
   "outputs": [
    {
     "name": "stdout",
     "output_type": "stream",
     "text": [
      "Obesity  Not Obese  Under Weight  obese\n",
      "HCFIF                                  \n",
      "n               19             3     29\n",
      "y                9             1     40\n"
     ]
    },
    {
     "data": {
      "image/png": "[encoded data removed]",
      "text/plain": [
       "<Figure size 1500x800 with 2 Axes>"
      ]
     },
     "metadata": {},
     "output_type": "display_data"
    }
   ],
   "source": [
    "crosstab = pd.crosstab(df['HCFIF'], df['Obesity'])\n",
    "\n",
    "sns.heatmap( data = crosstab, annot = True)\n",
    "print(crosstab)"
   ]
  },
  {
   "cell_type": "code",
   "execution_count": 96,
   "id": "1ea01413-5c84-4750-9ea3-ba71488d1f86",
   "metadata": {},
   "outputs": [
    {
     "name": "stdout",
     "output_type": "stream",
     "text": [
      "Obesity  Not Obese  Under Weight  obese\n",
      "HCFIF                                  \n",
      "n               19             3     29\n",
      "y                9             1     40\n"
     ]
    }
   ],
   "source": [
    "print(crosstab)"
   ]
  },
  {
   "cell_type": "code",
   "execution_count": 98,
   "id": "5b7ebc01-f9ae-4e0a-808c-dd125a31a024",
   "metadata": {},
   "outputs": [
    {
     "data": {
      "text/html": [
       "<div>\n",
       "<style scoped>\n",
       "    .dataframe tbody tr th:only-of-type {\n",
       "        vertical-align: middle;\n",
       "    }\n",
       "\n",
       "    .dataframe tbody tr th {\n",
       "        vertical-align: top;\n",
       "    }\n",
       "\n",
       "    .dataframe thead th {\n",
       "        text-align: right;\n",
       "    }\n",
       "</style>\n",
       "<table border=\"1\" class=\"dataframe\">\n",
       "  <thead>\n",
       "    <tr style=\"text-align: right;\">\n",
       "      <th>Obesity</th>\n",
       "      <th>Not Obese</th>\n",
       "      <th>Under Weight</th>\n",
       "      <th>obese</th>\n",
       "    </tr>\n",
       "    <tr>\n",
       "      <th>HCFIF</th>\n",
       "      <th></th>\n",
       "      <th></th>\n",
       "      <th></th>\n",
       "    </tr>\n",
       "  </thead>\n",
       "  <tbody>\n",
       "    <tr>\n",
       "      <th>n</th>\n",
       "      <td>0.372549</td>\n",
       "      <td>0.058824</td>\n",
       "      <td>0.568627</td>\n",
       "    </tr>\n",
       "    <tr>\n",
       "      <th>y</th>\n",
       "      <td>0.180000</td>\n",
       "      <td>0.020000</td>\n",
       "      <td>0.800000</td>\n",
       "    </tr>\n",
       "  </tbody>\n",
       "</table>\n",
       "</div>"
      ],
      "text/plain": [
       "Obesity  Not Obese  Under Weight     obese\n",
       "HCFIF                                     \n",
       "n         0.372549      0.058824  0.568627\n",
       "y         0.180000      0.020000  0.800000"
      ]
     },
     "execution_count": 98,
     "metadata": {},
     "output_type": "execute_result"
    }
   ],
   "source": [
    "df.groupby('HCFIF')['Obesity'].value_counts(normalize = True).unstack()"
   ]
  },
  {
   "cell_type": "markdown",
   "id": "97b4fa6f",
   "metadata": {},
   "source": [
    "### Identifying STATISTICALLY SIGNIFICANT Variables "
   ]
  },
  {
   "cell_type": "markdown",
   "id": "dcd8ae59",
   "metadata": {},
   "source": [
    "#### Is age statistically significant in predicting BMI?"
   ]
  },
  {
   "cell_type": "code",
   "execution_count": 104,
   "id": "1930b3d5-a354-420d-a39d-a3b94c634e70",
   "metadata": {},
   "outputs": [],
   "source": [
    "#h0: The coefficient for age is 0 (i.e., age is not a statistically significant predictor of BMI).\n",
    "#ha: The coefficient for age is not 0 (i.e., age is a statistically significant predictor of BMI)."
   ]
  },
  {
   "cell_type": "code",
   "execution_count": 118,
   "id": "327f4cf5",
   "metadata": {},
   "outputs": [],
   "source": [
    "#Preparing the data for regression\n",
    "X = df['age']\n",
    "X = sm.add_constant(X)\n",
    "y = df['BMI']\n",
    "\n",
    "model = sm.OLS(y, X).fit()"
   ]
  },
  {
   "cell_type": "code",
   "execution_count": 120,
   "id": "c34c2676-95e8-4dad-9b46-35574422f656",
   "metadata": {},
   "outputs": [
    {
     "data": {
      "text/html": [
       "<table class=\"simpletable\">\n",
       "<caption>OLS Regression Results</caption>\n",
       "<tr>\n",
       "  <th>Dep. Variable:</th>           <td>BMI</td>       <th>  R-squared:         </th> <td>   0.000</td> \n",
       "</tr>\n",
       "<tr>\n",
       "  <th>Model:</th>                   <td>OLS</td>       <th>  Adj. R-squared:    </th> <td>  -0.010</td> \n",
       "</tr>\n",
       "<tr>\n",
       "  <th>Method:</th>             <td>Least Squares</td>  <th>  F-statistic:       </th> <td>0.0001479</td>\n",
       "</tr>\n",
       "<tr>\n",
       "  <th>Date:</th>             <td>Tue, 10 Dec 2024</td> <th>  Prob (F-statistic):</th>  <td> 0.990</td>  \n",
       "</tr>\n",
       "<tr>\n",
       "  <th>Time:</th>                 <td>23:48:11</td>     <th>  Log-Likelihood:    </th> <td> -333.04</td> \n",
       "</tr>\n",
       "<tr>\n",
       "  <th>No. Observations:</th>      <td>   101</td>      <th>  AIC:               </th> <td>   670.1</td> \n",
       "</tr>\n",
       "<tr>\n",
       "  <th>Df Residuals:</th>          <td>    99</td>      <th>  BIC:               </th> <td>   675.3</td> \n",
       "</tr>\n",
       "<tr>\n",
       "  <th>Df Model:</th>              <td>     1</td>      <th>                     </th>     <td> </td>    \n",
       "</tr>\n",
       "<tr>\n",
       "  <th>Covariance Type:</th>      <td>nonrobust</td>    <th>                     </th>     <td> </td>    \n",
       "</tr>\n",
       "</table>\n",
       "<table class=\"simpletable\">\n",
       "<tr>\n",
       "    <td></td>       <th>coef</th>     <th>std err</th>      <th>t</th>      <th>P>|t|</th>  <th>[0.025</th>    <th>0.975]</th>  \n",
       "</tr>\n",
       "<tr>\n",
       "  <th>const</th> <td>   28.9050</td> <td>    1.853</td> <td>   15.602</td> <td> 0.000</td> <td>   25.229</td> <td>   32.581</td>\n",
       "</tr>\n",
       "<tr>\n",
       "  <th>age</th>   <td>   -0.0005</td> <td>    0.038</td> <td>   -0.012</td> <td> 0.990</td> <td>   -0.075</td> <td>    0.074</td>\n",
       "</tr>\n",
       "</table>\n",
       "<table class=\"simpletable\">\n",
       "<tr>\n",
       "  <th>Omnibus:</th>       <td> 3.063</td> <th>  Durbin-Watson:     </th> <td>   1.206</td>\n",
       "</tr>\n",
       "<tr>\n",
       "  <th>Prob(Omnibus):</th> <td> 0.216</td> <th>  Jarque-Bera (JB):  </th> <td>   3.068</td>\n",
       "</tr>\n",
       "<tr>\n",
       "  <th>Skew:</th>          <td> 0.395</td> <th>  Prob(JB):          </th> <td>   0.216</td>\n",
       "</tr>\n",
       "<tr>\n",
       "  <th>Kurtosis:</th>      <td> 2.678</td> <th>  Cond. No.          </th> <td>    139.</td>\n",
       "</tr>\n",
       "</table><br/><br/>Notes:<br/>[1] Standard Errors assume that the covariance matrix of the errors is correctly specified."
      ],
      "text/latex": [
       "\\begin{center}\n",
       "\\begin{tabular}{lclc}\n",
       "\\toprule\n",
       "\\textbf{Dep. Variable:}    &       BMI        & \\textbf{  R-squared:         } &     0.000   \\\\\n",
       "\\textbf{Model:}            &       OLS        & \\textbf{  Adj. R-squared:    } &    -0.010   \\\\\n",
       "\\textbf{Method:}           &  Least Squares   & \\textbf{  F-statistic:       } & 0.0001479   \\\\\n",
       "\\textbf{Date:}             & Tue, 10 Dec 2024 & \\textbf{  Prob (F-statistic):} &    0.990    \\\\\n",
       "\\textbf{Time:}             &     23:48:11     & \\textbf{  Log-Likelihood:    } &   -333.04   \\\\\n",
       "\\textbf{No. Observations:} &         101      & \\textbf{  AIC:               } &     670.1   \\\\\n",
       "\\textbf{Df Residuals:}     &          99      & \\textbf{  BIC:               } &     675.3   \\\\\n",
       "\\textbf{Df Model:}         &           1      & \\textbf{                     } &             \\\\\n",
       "\\textbf{Covariance Type:}  &    nonrobust     & \\textbf{                     } &             \\\\\n",
       "\\bottomrule\n",
       "\\end{tabular}\n",
       "\\begin{tabular}{lcccccc}\n",
       "               & \\textbf{coef} & \\textbf{std err} & \\textbf{t} & \\textbf{P$> |$t$|$} & \\textbf{[0.025} & \\textbf{0.975]}  \\\\\n",
       "\\midrule\n",
       "\\textbf{const} &      28.9050  &        1.853     &    15.602  &         0.000        &       25.229    &       32.581     \\\\\n",
       "\\textbf{age}   &      -0.0005  &        0.038     &    -0.012  &         0.990        &       -0.075    &        0.074     \\\\\n",
       "\\bottomrule\n",
       "\\end{tabular}\n",
       "\\begin{tabular}{lclc}\n",
       "\\textbf{Omnibus:}       &  3.063 & \\textbf{  Durbin-Watson:     } &    1.206  \\\\\n",
       "\\textbf{Prob(Omnibus):} &  0.216 & \\textbf{  Jarque-Bera (JB):  } &    3.068  \\\\\n",
       "\\textbf{Skew:}          &  0.395 & \\textbf{  Prob(JB):          } &    0.216  \\\\\n",
       "\\textbf{Kurtosis:}      &  2.678 & \\textbf{  Cond. No.          } &     139.  \\\\\n",
       "\\bottomrule\n",
       "\\end{tabular}\n",
       "%\\caption{OLS Regression Results}\n",
       "\\end{center}\n",
       "\n",
       "Notes: \\newline\n",
       " [1] Standard Errors assume that the covariance matrix of the errors is correctly specified."
      ],
      "text/plain": [
       "<class 'statsmodels.iolib.summary.Summary'>\n",
       "\"\"\"\n",
       "                            OLS Regression Results                            \n",
       "==============================================================================\n",
       "Dep. Variable:                    BMI   R-squared:                       0.000\n",
       "Model:                            OLS   Adj. R-squared:                 -0.010\n",
       "Method:                 Least Squares   F-statistic:                 0.0001479\n",
       "Date:                Tue, 10 Dec 2024   Prob (F-statistic):              0.990\n",
       "Time:                        23:48:11   Log-Likelihood:                -333.04\n",
       "No. Observations:                 101   AIC:                             670.1\n",
       "Df Residuals:                      99   BIC:                             675.3\n",
       "Df Model:                           1                                         \n",
       "Covariance Type:            nonrobust                                         \n",
       "==============================================================================\n",
       "                 coef    std err          t      P>|t|      [0.025      0.975]\n",
       "------------------------------------------------------------------------------\n",
       "const         28.9050      1.853     15.602      0.000      25.229      32.581\n",
       "age           -0.0005      0.038     -0.012      0.990      -0.075       0.074\n",
       "==============================================================================\n",
       "Omnibus:                        3.063   Durbin-Watson:                   1.206\n",
       "Prob(Omnibus):                  0.216   Jarque-Bera (JB):                3.068\n",
       "Skew:                           0.395   Prob(JB):                        0.216\n",
       "Kurtosis:                       2.678   Cond. No.                         139.\n",
       "==============================================================================\n",
       "\n",
       "Notes:\n",
       "[1] Standard Errors assume that the covariance matrix of the errors is correctly specified.\n",
       "\"\"\""
      ]
     },
     "execution_count": 120,
     "metadata": {},
     "output_type": "execute_result"
    }
   ],
   "source": [
    "model.summary()"
   ]
  },
  {
   "cell_type": "code",
   "execution_count": 122,
   "id": "8249d8a1-a3b4-478e-bfc6-7f0ba2b6c919",
   "metadata": {},
   "outputs": [
    {
     "data": {
      "text/plain": [
       "0.9903204057528461"
      ]
     },
     "execution_count": 122,
     "metadata": {},
     "output_type": "execute_result"
    }
   ],
   "source": [
    "model.pvalues['age']"
   ]
  },
  {
   "cell_type": "code",
   "execution_count": 126,
   "id": "461ad906-5b3a-4eea-838e-646485537b50",
   "metadata": {},
   "outputs": [
    {
     "name": "stdout",
     "output_type": "stream",
     "text": [
      "We have failed to reject the null hypothesis\n"
     ]
    }
   ],
   "source": [
    "a = 0.05\n",
    "pval = 0.9903204057528461\n",
    "if pval < a:\n",
    "    print(\"The null hypothesis is rejected\")\n",
    "else:\n",
    "    print(\"We have failed to reject the null hypothesis\")"
   ]
  },
  {
   "cell_type": "code",
   "execution_count": 128,
   "id": "269ad493-21c8-440f-82ed-3529ae8e0f3f",
   "metadata": {},
   "outputs": [],
   "source": [
    "#therefore we can conclude that age is not statistically significant in predicting BMI"
   ]
  },
  {
   "cell_type": "markdown",
   "id": "16ffb856",
   "metadata": {},
   "source": [
    "#### Is weight statistically significant in predicting BMI?"
   ]
  },
  {
   "cell_type": "code",
   "execution_count": null,
   "id": "a1f73ade-2fa2-41a4-83b9-6dd2c98cc324",
   "metadata": {},
   "outputs": [],
   "source": [
    "#h0: The coefficient for weight is 0 (i.e., age is not a statistically significant predictor of BMI).\n",
    "#ha: The coefficient for weight is not 0 (i.e., age is a statistically significant predictor of BMI)."
   ]
  },
  {
   "cell_type": "code",
   "execution_count": 135,
   "id": "3ea01661-76aa-4893-8c41-ec13ec86ff36",
   "metadata": {},
   "outputs": [],
   "source": [
    "#Preparing the data for regression\n",
    "X = df['weight']\n",
    "X = sm.add_constant(X) \n",
    "\n",
    "y = df['BMI']\n",
    "\n",
    "model = sm.OLS(y, X).fit()"
   ]
  },
  {
   "cell_type": "code",
   "execution_count": 137,
   "id": "5d24ea63-da66-4155-96c8-f3952547cef5",
   "metadata": {},
   "outputs": [
    {
     "data": {
      "text/html": [
       "<table class=\"simpletable\">\n",
       "<caption>OLS Regression Results</caption>\n",
       "<tr>\n",
       "  <th>Dep. Variable:</th>           <td>BMI</td>       <th>  R-squared:         </th> <td>   0.416</td>\n",
       "</tr>\n",
       "<tr>\n",
       "  <th>Model:</th>                   <td>OLS</td>       <th>  Adj. R-squared:    </th> <td>   0.410</td>\n",
       "</tr>\n",
       "<tr>\n",
       "  <th>Method:</th>             <td>Least Squares</td>  <th>  F-statistic:       </th> <td>   70.44</td>\n",
       "</tr>\n",
       "<tr>\n",
       "  <th>Date:</th>             <td>Tue, 10 Dec 2024</td> <th>  Prob (F-statistic):</th> <td>3.43e-13</td>\n",
       "</tr>\n",
       "<tr>\n",
       "  <th>Time:</th>                 <td>23:51:00</td>     <th>  Log-Likelihood:    </th> <td> -305.91</td>\n",
       "</tr>\n",
       "<tr>\n",
       "  <th>No. Observations:</th>      <td>   101</td>      <th>  AIC:               </th> <td>   615.8</td>\n",
       "</tr>\n",
       "<tr>\n",
       "  <th>Df Residuals:</th>          <td>    99</td>      <th>  BIC:               </th> <td>   621.0</td>\n",
       "</tr>\n",
       "<tr>\n",
       "  <th>Df Model:</th>              <td>     1</td>      <th>                     </th>     <td> </td>   \n",
       "</tr>\n",
       "<tr>\n",
       "  <th>Covariance Type:</th>      <td>nonrobust</td>    <th>                     </th>     <td> </td>   \n",
       "</tr>\n",
       "</table>\n",
       "<table class=\"simpletable\">\n",
       "<tr>\n",
       "     <td></td>       <th>coef</th>     <th>std err</th>      <th>t</th>      <th>P>|t|</th>  <th>[0.025</th>    <th>0.975]</th>  \n",
       "</tr>\n",
       "<tr>\n",
       "  <th>const</th>  <td>   12.6189</td> <td>    2.002</td> <td>    6.303</td> <td> 0.000</td> <td>    8.646</td> <td>   16.592</td>\n",
       "</tr>\n",
       "<tr>\n",
       "  <th>weight</th> <td>    0.2162</td> <td>    0.026</td> <td>    8.393</td> <td> 0.000</td> <td>    0.165</td> <td>    0.267</td>\n",
       "</tr>\n",
       "</table>\n",
       "<table class=\"simpletable\">\n",
       "<tr>\n",
       "  <th>Omnibus:</th>       <td> 1.940</td> <th>  Durbin-Watson:     </th> <td>   0.861</td>\n",
       "</tr>\n",
       "<tr>\n",
       "  <th>Prob(Omnibus):</th> <td> 0.379</td> <th>  Jarque-Bera (JB):  </th> <td>   1.878</td>\n",
       "</tr>\n",
       "<tr>\n",
       "  <th>Skew:</th>          <td> 0.254</td> <th>  Prob(JB):          </th> <td>   0.391</td>\n",
       "</tr>\n",
       "<tr>\n",
       "  <th>Kurtosis:</th>      <td> 2.565</td> <th>  Cond. No.          </th> <td>    310.</td>\n",
       "</tr>\n",
       "</table><br/><br/>Notes:<br/>[1] Standard Errors assume that the covariance matrix of the errors is correctly specified."
      ],
      "text/latex": [
       "\\begin{center}\n",
       "\\begin{tabular}{lclc}\n",
       "\\toprule\n",
       "\\textbf{Dep. Variable:}    &       BMI        & \\textbf{  R-squared:         } &     0.416   \\\\\n",
       "\\textbf{Model:}            &       OLS        & \\textbf{  Adj. R-squared:    } &     0.410   \\\\\n",
       "\\textbf{Method:}           &  Least Squares   & \\textbf{  F-statistic:       } &     70.44   \\\\\n",
       "\\textbf{Date:}             & Tue, 10 Dec 2024 & \\textbf{  Prob (F-statistic):} &  3.43e-13   \\\\\n",
       "\\textbf{Time:}             &     23:51:00     & \\textbf{  Log-Likelihood:    } &   -305.91   \\\\\n",
       "\\textbf{No. Observations:} &         101      & \\textbf{  AIC:               } &     615.8   \\\\\n",
       "\\textbf{Df Residuals:}     &          99      & \\textbf{  BIC:               } &     621.0   \\\\\n",
       "\\textbf{Df Model:}         &           1      & \\textbf{                     } &             \\\\\n",
       "\\textbf{Covariance Type:}  &    nonrobust     & \\textbf{                     } &             \\\\\n",
       "\\bottomrule\n",
       "\\end{tabular}\n",
       "\\begin{tabular}{lcccccc}\n",
       "                & \\textbf{coef} & \\textbf{std err} & \\textbf{t} & \\textbf{P$> |$t$|$} & \\textbf{[0.025} & \\textbf{0.975]}  \\\\\n",
       "\\midrule\n",
       "\\textbf{const}  &      12.6189  &        2.002     &     6.303  &         0.000        &        8.646    &       16.592     \\\\\n",
       "\\textbf{weight} &       0.2162  &        0.026     &     8.393  &         0.000        &        0.165    &        0.267     \\\\\n",
       "\\bottomrule\n",
       "\\end{tabular}\n",
       "\\begin{tabular}{lclc}\n",
       "\\textbf{Omnibus:}       &  1.940 & \\textbf{  Durbin-Watson:     } &    0.861  \\\\\n",
       "\\textbf{Prob(Omnibus):} &  0.379 & \\textbf{  Jarque-Bera (JB):  } &    1.878  \\\\\n",
       "\\textbf{Skew:}          &  0.254 & \\textbf{  Prob(JB):          } &    0.391  \\\\\n",
       "\\textbf{Kurtosis:}      &  2.565 & \\textbf{  Cond. No.          } &     310.  \\\\\n",
       "\\bottomrule\n",
       "\\end{tabular}\n",
       "%\\caption{OLS Regression Results}\n",
       "\\end{center}\n",
       "\n",
       "Notes: \\newline\n",
       " [1] Standard Errors assume that the covariance matrix of the errors is correctly specified."
      ],
      "text/plain": [
       "<class 'statsmodels.iolib.summary.Summary'>\n",
       "\"\"\"\n",
       "                            OLS Regression Results                            \n",
       "==============================================================================\n",
       "Dep. Variable:                    BMI   R-squared:                       0.416\n",
       "Model:                            OLS   Adj. R-squared:                  0.410\n",
       "Method:                 Least Squares   F-statistic:                     70.44\n",
       "Date:                Tue, 10 Dec 2024   Prob (F-statistic):           3.43e-13\n",
       "Time:                        23:51:00   Log-Likelihood:                -305.91\n",
       "No. Observations:                 101   AIC:                             615.8\n",
       "Df Residuals:                      99   BIC:                             621.0\n",
       "Df Model:                           1                                         \n",
       "Covariance Type:            nonrobust                                         \n",
       "==============================================================================\n",
       "                 coef    std err          t      P>|t|      [0.025      0.975]\n",
       "------------------------------------------------------------------------------\n",
       "const         12.6189      2.002      6.303      0.000       8.646      16.592\n",
       "weight         0.2162      0.026      8.393      0.000       0.165       0.267\n",
       "==============================================================================\n",
       "Omnibus:                        1.940   Durbin-Watson:                   0.861\n",
       "Prob(Omnibus):                  0.379   Jarque-Bera (JB):                1.878\n",
       "Skew:                           0.254   Prob(JB):                        0.391\n",
       "Kurtosis:                       2.565   Cond. No.                         310.\n",
       "==============================================================================\n",
       "\n",
       "Notes:\n",
       "[1] Standard Errors assume that the covariance matrix of the errors is correctly specified.\n",
       "\"\"\""
      ]
     },
     "execution_count": 137,
     "metadata": {},
     "output_type": "execute_result"
    }
   ],
   "source": [
    "model.summary()"
   ]
  },
  {
   "cell_type": "code",
   "execution_count": 139,
   "id": "0fa5af48-d893-407b-9087-3d60fa7474ee",
   "metadata": {},
   "outputs": [
    {
     "data": {
      "text/plain": [
       "3.4344059901305074e-13"
      ]
     },
     "execution_count": 139,
     "metadata": {},
     "output_type": "execute_result"
    }
   ],
   "source": [
    "model.pvalues['weight']"
   ]
  },
  {
   "cell_type": "code",
   "execution_count": 141,
   "id": "0ae80446-9930-4858-bf2a-d0aef3fc3641",
   "metadata": {},
   "outputs": [
    {
     "name": "stdout",
     "output_type": "stream",
     "text": [
      "The null hypothesis is rejected\n"
     ]
    }
   ],
   "source": [
    "pval = 3.4344059901305074e-13\n",
    "if pval < a:\n",
    "    print(\"The null hypothesis is rejected\")\n",
    "else:\n",
    "    print(\"We have failed to reject the null hypothesis\")"
   ]
  },
  {
   "cell_type": "code",
   "execution_count": 143,
   "id": "fe13af2c-f289-46a0-82a8-fcb4ade84b19",
   "metadata": {},
   "outputs": [],
   "source": [
    "#therefore we can conclude that weight is not statistically significant in predicting BMI"
   ]
  },
  {
   "cell_type": "markdown",
   "id": "d64eacbc",
   "metadata": {},
   "source": [
    "#### Is HCFIF statistically significant in predicting BMI?"
   ]
  },
  {
   "cell_type": "code",
   "execution_count": 90,
   "id": "055b5b39-a7b4-488f-8a1f-eae077fc82f1",
   "metadata": {},
   "outputs": [],
   "source": [
    "yes = df[df['HCFIF']=='y']['BMI']\n",
    "no = df[df['HCFIF']=='n']['BMI']"
   ]
  },
  {
   "cell_type": "code",
   "execution_count": 92,
   "id": "74f47bca-07ae-4d73-9328-06512e033a46",
   "metadata": {},
   "outputs": [
    {
     "name": "stdout",
     "output_type": "stream",
     "text": [
      "(50,) (51,)\n"
     ]
    }
   ],
   "source": [
    "print(yes.shape,no.shape)"
   ]
  },
  {
   "cell_type": "code",
   "execution_count": 3,
   "id": "25b49911",
   "metadata": {},
   "outputs": [],
   "source": [
    "# For cat vs num, the parametric test is 2-Sample Independent t-test:\n",
    "# Assumptions for Parametric Test:"
   ]
  },
  {
   "cell_type": "code",
   "execution_count": 94,
   "id": "88c8b03c-a524-47b6-adeb-2697fd39fccd",
   "metadata": {},
   "outputs": [
    {
     "name": "stdout",
     "output_type": "stream",
     "text": [
      "ShapiroResult(statistic=0.9514047079636958, pvalue=0.038974433878591855)\n",
      "ShapiroResult(statistic=0.9753274412186888, pvalue=0.3628555549691381)\n"
     ]
    }
   ],
   "source": [
    "print(stats.shapiro(yes))\n",
    "print(stats.shapiro(no))"
   ]
  },
  {
   "cell_type": "code",
   "execution_count": 70,
   "id": "27e59ebc-8a16-4371-a48b-3e0c6c758d81",
   "metadata": {},
   "outputs": [
    {
     "data": {
      "text/plain": [
       "LeveneResult(statistic=0.003367733548886417, pvalue=0.9538399713237141)"
      ]
     },
     "execution_count": 70,
     "metadata": {},
     "output_type": "execute_result"
    }
   ],
   "source": [
    "stats.levene(yes,no)"
   ]
  },
  {
   "cell_type": "code",
   "execution_count": 4,
   "id": "619815fc",
   "metadata": {},
   "outputs": [],
   "source": [
    "# Parametric Test (2-Sample Independent t-test)\n",
    "\n",
    "# Step 1: Check the Assumptions:\n",
    "# Data is Normal (True)\n",
    "# Population Standard Deviation is not known (True)\n",
    "# n < 30 (Not true, but in the real-world, we always prefer to use t-test over z-test. \n",
    "# We can use 2-Sample independent t-test"
   ]
  },
  {
   "cell_type": "code",
   "execution_count": 80,
   "id": "aa936b4c-4c9a-4108-ab63-b905f1a1d1ed",
   "metadata": {},
   "outputs": [],
   "source": [
    "a = 0.05"
   ]
  },
  {
   "cell_type": "code",
   "execution_count": 74,
   "id": "5f3e8428-c812-4e3b-b685-1b51dc060fa7",
   "metadata": {},
   "outputs": [
    {
     "data": {
      "text/plain": [
       "TtestResult(statistic=2.7368356794176094, pvalue=0.007354464845912772, df=99.0)"
      ]
     },
     "execution_count": 74,
     "metadata": {},
     "output_type": "execute_result"
    }
   ],
   "source": [
    "#h0: y - n = 0\n",
    "#h1: y - n != 0\n",
    "stats.ttest_ind(yes,no)"
   ]
  },
  {
   "cell_type": "code",
   "execution_count": 82,
   "id": "06f21cc7-0a96-4914-8f68-99b4ba883455",
   "metadata": {},
   "outputs": [
    {
     "name": "stdout",
     "output_type": "stream",
     "text": [
      "The null hypothesis is rejected\n"
     ]
    }
   ],
   "source": [
    "pval = 0.007354464845912772\n",
    "if pval < a:\n",
    "    print(\"The null hypothesis is rejected\")\n",
    "else:\n",
    "    print(\"We have failed to reject the null hypothesis\")"
   ]
  },
  {
   "cell_type": "code",
   "execution_count": null,
   "id": "11c5ac4b-941b-4025-84d8-0152fc401d91",
   "metadata": {},
   "outputs": [],
   "source": [
    "#therefore we can conclude that HCFIF is statistically significant in predicting BMI"
   ]
  },
  {
   "cell_type": "markdown",
   "id": "6984065f",
   "metadata": {},
   "source": [
    "#### Is hereditary statistically significant in predicting BMI?"
   ]
  },
  {
   "cell_type": "code",
   "execution_count": 11,
   "id": "f9cba341",
   "metadata": {},
   "outputs": [],
   "source": [
    "# Parametric Test (2-Sample Independent t-test)\n",
    "\n",
    "# Step 1: Check the Assumptions:\n",
    "# Data is Normal (True)\n",
    "# Population Standard Deviation is not known (True)\n",
    "# n < 30 (Not true, but in the real-world, we always prefer to use t-test over z-test. \n",
    "# We can use 2-Sample independent t-test"
   ]
  },
  {
   "cell_type": "code",
   "execution_count": 12,
   "id": "10988810",
   "metadata": {},
   "outputs": [],
   "source": [
    "# Step 2: Formation of Hypothesis:\n",
    "#h0: Hereditary is not statistically significant in predicting BMI\n",
    "#h1: Hereditary is statistically significant in predicting BMI"
   ]
  },
  {
   "cell_type": "code",
   "execution_count": 101,
   "id": "623eae48",
   "metadata": {},
   "outputs": [],
   "source": [
    "yes = df[df['Hereditary']=='y']['BMI']\n",
    "no = df[df['Hereditary']=='n']['BMI']"
   ]
  },
  {
   "cell_type": "code",
   "execution_count": 103,
   "id": "448d92d5-ab93-49ab-b13b-9e45ba420ba4",
   "metadata": {},
   "outputs": [
    {
     "name": "stdout",
     "output_type": "stream",
     "text": [
      "(42,) (59,)\n"
     ]
    }
   ],
   "source": [
    "print(yes.shape,no.shape)"
   ]
  },
  {
   "cell_type": "code",
   "execution_count": 105,
   "id": "0c0006a7-6edb-4cf8-ac7c-1f470faf9981",
   "metadata": {},
   "outputs": [
    {
     "name": "stdout",
     "output_type": "stream",
     "text": [
      "ShapiroResult(statistic=0.966207396244314, pvalue=0.2449449117784481)\n",
      "ShapiroResult(statistic=0.979969886809071, pvalue=0.4387249497876531)\n"
     ]
    }
   ],
   "source": [
    "print(stats.shapiro(yes))\n",
    "print(stats.shapiro(no))"
   ]
  },
  {
   "cell_type": "code",
   "execution_count": 107,
   "id": "927fccd2-60fa-4ceb-a7b6-e71db8b359b9",
   "metadata": {},
   "outputs": [
    {
     "data": {
      "text/plain": [
       "LeveneResult(statistic=1.537061311336631, pvalue=0.2179864676219075)"
      ]
     },
     "execution_count": 107,
     "metadata": {},
     "output_type": "execute_result"
    }
   ],
   "source": [
    "stats.levene(yes,no)"
   ]
  },
  {
   "cell_type": "code",
   "execution_count": 10,
   "id": "d4752eb8",
   "metadata": {},
   "outputs": [],
   "source": [
    "# The data is normal and has equal variance, so we can proceed with the parametric test."
   ]
  },
  {
   "cell_type": "code",
   "execution_count": 14,
   "id": "33e1c7bb",
   "metadata": {},
   "outputs": [],
   "source": [
    "# Step 4: Calculating the Test Statistic (test_stat):"
   ]
  },
  {
   "cell_type": "code",
   "execution_count": 109,
   "id": "5c08cd79-c147-4708-91f8-f7e34c2753a0",
   "metadata": {},
   "outputs": [
    {
     "data": {
      "text/plain": [
       "TtestResult(statistic=-0.3534474180692366, pvalue=0.7245045851224163, df=99.0)"
      ]
     },
     "execution_count": 109,
     "metadata": {},
     "output_type": "execute_result"
    }
   ],
   "source": [
    "#h0: y - n = 0\n",
    "#h1: y - n != 0\n",
    "stats.ttest_ind(yes,no)"
   ]
  },
  {
   "cell_type": "code",
   "execution_count": 16,
   "id": "91bc8f51",
   "metadata": {},
   "outputs": [],
   "source": [
    "# Step 5: Concluding the Hypothesis:"
   ]
  },
  {
   "cell_type": "code",
   "execution_count": 111,
   "id": "a5bac734-6231-445e-af62-d9550c045b3c",
   "metadata": {},
   "outputs": [
    {
     "name": "stdout",
     "output_type": "stream",
     "text": [
      "We have failed to reject the null hypothesis\n"
     ]
    }
   ],
   "source": [
    "pval = 0.7245045851224163\n",
    "if pval < a:\n",
    "    print(\"The null hypothesis is rejected\")\n",
    "else:\n",
    "    print(\"We have failed to reject the null hypothesis\")"
   ]
  },
  {
   "cell_type": "code",
   "execution_count": null,
   "id": "103feba6-7cfe-44a1-bc55-17fcff1e0d07",
   "metadata": {},
   "outputs": [],
   "source": [
    "#we can conclude that it does not make a difference; \n",
    "#hereditary is not statistically significant in predicting BMI"
   ]
  },
  {
   "cell_type": "markdown",
   "id": "52552f65",
   "metadata": {},
   "source": [
    "#### Is BMI statistically significant in predicting Obese?"
   ]
  },
  {
   "cell_type": "code",
   "execution_count": null,
   "id": "efa7237a-eb80-4cb8-a261-e7d423d3e442",
   "metadata": {},
   "outputs": [],
   "source": [
    "#h0: all means are equal\n",
    "#h0: all means are not equal"
   ]
  },
  {
   "cell_type": "code",
   "execution_count": 113,
   "id": "c6003c1e",
   "metadata": {},
   "outputs": [
    {
     "data": {
      "text/plain": [
       "array(['Under Weight', 'obese', 'Not Obese'], dtype=object)"
      ]
     },
     "execution_count": 113,
     "metadata": {},
     "output_type": "execute_result"
    }
   ],
   "source": [
    "df['Obesity'].unique()"
   ]
  },
  {
   "cell_type": "code",
   "execution_count": 115,
   "id": "95b77ea4-2596-46a7-b645-2d9f18ae3419",
   "metadata": {},
   "outputs": [],
   "source": [
    "uw = df[df['Obesity']=='Under Weight']['BMI']\n",
    "o = df[df['Obesity']=='obese']['BMI']\n",
    "no = df[df['Obesity']=='Not Obese']['BMI']"
   ]
  },
  {
   "cell_type": "code",
   "execution_count": 117,
   "id": "712980c5-27a0-4971-abb9-50ac81d2a5cd",
   "metadata": {},
   "outputs": [
    {
     "name": "stdout",
     "output_type": "stream",
     "text": [
      "(4,) (69,) (28,)\n"
     ]
    }
   ],
   "source": [
    "print(uw.shape,o.shape,no.shape)"
   ]
  },
  {
   "cell_type": "code",
   "execution_count": 119,
   "id": "8807af87-014a-4232-bb42-c5d45d7b2ec9",
   "metadata": {},
   "outputs": [
    {
     "name": "stdout",
     "output_type": "stream",
     "text": [
      "ShapiroResult(statistic=0.9508958411560319, pvalue=0.7217156875621007)\n",
      "ShapiroResult(statistic=0.9334310104422435, pvalue=0.0011862908010026423)\n",
      "ShapiroResult(statistic=0.9669573317343301, pvalue=0.501795914259838)\n"
     ]
    }
   ],
   "source": [
    "print(stats.shapiro(uw))\n",
    "print(stats.shapiro(o))\n",
    "print(stats.shapiro(no))"
   ]
  },
  {
   "cell_type": "code",
   "execution_count": 121,
   "id": "0b481a41-f3a1-467c-aa36-59be8f64dec3",
   "metadata": {},
   "outputs": [
    {
     "data": {
      "text/plain": [
       "LeveneResult(statistic=11.049143108047344, pvalue=4.707323144781285e-05)"
      ]
     },
     "execution_count": 121,
     "metadata": {},
     "output_type": "execute_result"
    }
   ],
   "source": [
    "stats.levene(uw,o,no)"
   ]
  },
  {
   "cell_type": "code",
   "execution_count": 123,
   "id": "b5449e64-fa19-4bc8-81d0-d9076c37eccf",
   "metadata": {},
   "outputs": [
    {
     "data": {
      "text/plain": [
       "F_onewayResult(statistic=64.97768453366795, pvalue=1.0850162723354575e-18)"
      ]
     },
     "execution_count": 123,
     "metadata": {},
     "output_type": "execute_result"
    }
   ],
   "source": [
    "stats.f_oneway(uw,o,no)"
   ]
  },
  {
   "cell_type": "code",
   "execution_count": 125,
   "id": "e064b444-b383-4afe-a348-0e378ce659ba",
   "metadata": {},
   "outputs": [
    {
     "name": "stdout",
     "output_type": "stream",
     "text": [
      "The null hypothesis that all means of the samples are equal is rejected.\n"
     ]
    }
   ],
   "source": [
    "pval = 1.0850162723354575e-18\n",
    "a = 0.05\n",
    "if pval < a:\n",
    "    print(\"The null hypothesis that all means of the samples are equal is rejected.\")\n",
    "else:\n",
    "    print(\"We have failed to reject the null hypothesis that all means of the samples are equal.\")"
   ]
  },
  {
   "cell_type": "code",
   "execution_count": 127,
   "id": "d4b1bd0a-2156-471a-a60a-5e76ac7fde27",
   "metadata": {},
   "outputs": [
    {
     "data": {
      "text/html": [
       "<table class=\"simpletable\">\n",
       "<caption>Multiple Comparison of Means - Tukey HSD, FWER=0.05</caption>\n",
       "<tr>\n",
       "     <th>group1</th>       <th>group2</th>    <th>meandiff</th>  <th>p-adj</th>   <th>lower</th>   <th>upper</th>  <th>reject</th>\n",
       "</tr>\n",
       "<tr>\n",
       "    <td>Not Obese</td>  <td>Under Weight</td>  <td>-5.9123</td> <td>0.0336</td> <td>-11.4531</td> <td>-0.3714</td>  <td>True</td> \n",
       "</tr>\n",
       "<tr>\n",
       "    <td>Not Obese</td>      <td>obese</td>      <td>9.614</td>    <td>0.0</td>   <td>7.2913</td>  <td>11.9367</td>  <td>True</td> \n",
       "</tr>\n",
       "<tr>\n",
       "  <td>Under Weight</td>     <td>obese</td>     <td>15.5262</td>   <td>0.0</td>   <td>10.1952</td> <td>20.8573</td>  <td>True</td> \n",
       "</tr>\n",
       "</table>"
      ],
      "text/latex": [
       "\\begin{center}\n",
       "\\begin{tabular}{ccccccc}\n",
       "\\toprule\n",
       "\\textbf{group1} & \\textbf{group2} & \\textbf{meandiff} & \\textbf{p-adj} & \\textbf{lower} & \\textbf{upper} & \\textbf{reject}  \\\\\n",
       "\\midrule\n",
       "   Not Obese    &   Under Weight  &      -5.9123      &     0.0336     &    -11.4531    &    -0.3714     &       True       \\\\\n",
       "   Not Obese    &      obese      &       9.614       &      0.0       &     7.2913     &    11.9367     &       True       \\\\\n",
       "  Under Weight  &      obese      &      15.5262      &      0.0       &    10.1952     &    20.8573     &       True       \\\\\n",
       "\\bottomrule\n",
       "\\end{tabular}\n",
       "%\\caption{Multiple Comparison of Means - Tukey HSD, FWER=0.05}\n",
       "\\end{center}"
      ],
      "text/plain": [
       "<class 'statsmodels.iolib.table.SimpleTable'>"
      ]
     },
     "execution_count": 127,
     "metadata": {},
     "output_type": "execute_result"
    }
   ],
   "source": [
    "import statsmodels.stats.multicomp as mc\n",
    "mc.pairwise_tukeyhsd(df['BMI'], df['Obesity'], alpha = 0.05).summary()"
   ]
  },
  {
   "cell_type": "code",
   "execution_count": null,
   "id": "442845c0-decc-482a-a54e-303b32446b5b",
   "metadata": {},
   "outputs": [],
   "source": [
    "#none of the means are equal"
   ]
  },
  {
   "cell_type": "markdown",
   "id": "cec4407e",
   "metadata": {},
   "source": [
    "### Prove Central Limit Theorem considering left skewed data and 1000 samples with each sample size 1000 "
   ]
  },
  {
   "cell_type": "code",
   "execution_count": 17,
   "id": "533a1688",
   "metadata": {},
   "outputs": [],
   "source": [
    "# Central Limit Theroem states that as long as sample size is large enough, regardless of the population distribution,\n",
    "# the sampling distribution (distribution of sample  means) follows normal distribution.\n",
    "# Central Limit Theorem holds true for sample size greater than 30."
   ]
  },
  {
   "cell_type": "code",
   "execution_count": 149,
   "id": "748de1b5",
   "metadata": {},
   "outputs": [
    {
     "data": {
      "image/png": "[encoded data removed]",
      "text/plain": [
       "<Figure size 1000x600 with 1 Axes>"
      ]
     },
     "metadata": {},
     "output_type": "display_data"
    }
   ],
   "source": [
    "#Generating left-skewed data (using exponential distribution)\n",
    "np.random.seed(42)  # For reproducibility\n",
    "data = np.random.exponential(scale=1, size=100000)  # Exponentially distributed data (left-skewed)\n",
    "\n",
    "#Taking 1,000 samples, each with a sample size of 1,000\n",
    "sample_means = []\n",
    "sample_size = 1000\n",
    "num_samples = 1000\n",
    "\n",
    "for _ in range(num_samples):\n",
    "    sample = np.random.choice(data, size=sample_size, replace=True)\n",
    "    sample_means.append(np.mean(sample))\n",
    "\n",
    "#Ploting the distribution of sample means\n",
    "plt.figure(figsize=(10, 6))\n",
    "plt.hist(sample_means, bins=50, density=True, color='skyblue', edgecolor='black')\n",
    "plt.title('Distribution of Sample Means (Central Limit Theorem)')\n",
    "plt.xlabel('Sample Mean')\n",
    "plt.ylabel('Frequency')\n",
    "plt.show()"
   ]
  }
 ],
 "metadata": {
  "kernelspec": {
   "display_name": "Python 3 (ipykernel)",
   "language": "python",
   "name": "python3"
  },
  "language_info": {
   "codemirror_mode": {
    "name": "ipython",
    "version": 3
   },
   "file_extension": ".py",
   "mimetype": "text/x-python",
   "name": "python",
   "nbconvert_exporter": "python",
   "pygments_lexer": "ipython3",
   "version": "3.12.4"
  }
 },
 "nbformat": 4,
 "nbformat_minor": 5
}
